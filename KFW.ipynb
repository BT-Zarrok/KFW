{
 "cells": [
  {
   "attachments": {},
   "cell_type": "markdown",
   "metadata": {},
   "source": [
    "# Ladesäulen KFW rc\n",
    "\n",
    "Von  Jannis Breitenstein <br>\n",
    "\n",
    "\n",
    "Diese Notebook ist in folgende Abschnitte unterteilt:\n",
    "z67u.[]\n",
    "+ [1. Import Bibliotheken](#1)<br>\n",
    "+ [2. Laden und Aufbereiten der Zapfsäulendaten](#2)<br>\n",
    "+ [2.1 Laden und Aufbereitung der Daten](#2.1)<br>\n",
    "+ [2.2 Exportieren und Einlesen der Daten](#2.1)<br>\n",
    "+ [3. Explorative Datenanalyse](#3)<br>\n",
    "+ [3.1 Allgeime Daten über die Datensets](#3.1)<br>\n",
    "+ [3.2 Veröffentlichung der Filme](#3.2)<br>\n",
    "+ [3.3 Verteilung der Filmbewertungen](#3.3)<br>\n",
    "+ [3.4 Wann sind die Filme bewertet worden](#3.4)<br>\n",
    "+ [3.5 Verteilung von Filmbewertungen und Benutzern](#3.5)<br>\n",
    "+ [4. Filtern der Daten](#4)<br>\n",
    "+ [5. Anweden des KNN-Modells](#5)<br>\n",
    "+ [5.1 Vorbereitung des KNN-Modells](#5.1)<br>\n",
    "+ [5.2 Berechnung von allen Nachbarn und Export](#5.2)<br>\n",
    "+ [5.3 Vorbereitung für Precision and Recall](#5.3)<br>\n",
    "+ [5.4 Presicion and Recall](#5.4)<br>\n",
    "+ [5.5 Empfehlung mit Hilfe des Fuzzy Algorithmus](#5.5)<br>\n",
    "***"
   ]
  },
  {
   "cell_type": "code",
   "execution_count": null,
   "metadata": {},
   "outputs": [],
   "source": [
    "##  cd C:\\Python\\KFW_V1\n",
    "##  !{sys.executable} -m pipenv shell\n",
    "## dsad\n",
    "\"\"\"\n",
    "pip3 install virtualenv\n",
    "cd C:\\Python\\KFW_V1\\kfw> \n",
    "python -m venv kfw  --> Zum Erstellen, wenn bereits vorhanden dann Active\n",
    ".\\kfw\\Scripts\\activate\n",
    "--> When Activation is failing: Set-ExecutionPolicy -Scope CurrentUser -ExecutionPolicy Unrestricted --> Repeat step four\n",
    "--> to run the Jupyter Notebook in virtual Enviroment it is recommended to install all jupyter dependencies --> !{sys.executable} -m pip3 install jupyter\n",
    "\n",
    "pip freeze > requirements.txt\n",
    "\n",
    "\"\"\"\n"
   ]
  },
  {
   "cell_type": "markdown",
   "metadata": {},
   "source": [
    "# <a id=1>1. Import Bibliotheken </a>\n"
   ]
  },
  {
   "cell_type": "code",
   "execution_count": null,
   "metadata": {},
   "outputs": [],
   "source": [
    "\"\"\"\n",
    "\n",
    "import sys\n",
    "!{sys.executable} --version\n",
    "print(sys.executable)\n",
    "!{sys.executable} -m pip install autokeras\n",
    "!{sys.executable} -m pip install altair\n",
    "!{sys.executable} -m pip install bayesian-optimization\n",
    "!{sys.executable} -m pip install chart_studio\n",
    "!{sys.executable} -m pip install cx_Oracle\n",
    "!{sys.executable} -m pip install dython\n",
    "!{sys.executable} -m pip install fastparquet\n",
    "!{sys.executable} -m pip install fuzzywuzzy\n",
    "!{sys.executable} -m pip install geopandas\n",
    "!{sys.executable} -m pip install graphviz\n",
    "!{sys.executable} -m pip install glom\n",
    "!{sys.executable} -m pip install ipywidgets\n",
    "!{sys.executable} -m pip install ipython-sql\n",
    "# Wichtig\n",
    "!{sys.executable} -m pip install keras\n",
    "!{sys.executable} -m pip install lime\n",
    "!{sys.executable} -m pip install nltk\n",
    "# Wichtig\n",
    "!{sys.executable} -m pip install numpy\n",
    "# Wichtig\n",
    "!{sys.executable} -m pip install notebook \n",
    "!{sys.executable} -m pip install matplotlib\n",
    "!{sys.executable} -m pip install openpyxl\n",
    "# Wichtig\n",
    "!{sys.executable} -m pip install pandas\n",
    "#\n",
    "!{sys.executable} -m pip install pillow\n",
    "!{sys.executable} -m pip install plotly\n",
    "!{sys.executable} -m pip install pyarrow\n",
    "!{sys.executable} -m pip install python-Levenshtein\n",
    "!{sys.executable} -m pip install prettytable\n",
    "!{sys.executable} -m pip install pyspark\n",
    "!{sys.executable} -m pip install scikit-learn\n",
    "!{sys.executable} -m pip install scipy\n",
    "!{sys.executable} -m pip install seaborn\n",
    "!{sys.executable} -m pip install surprise\n",
    "!{sys.executable} -m pip install scikit-surprise \n",
    "!{sys.executable} -m pip install sklearn\n",
    "!{sys.executable} -m pip install spaCy\n",
    "!{sys.executable} -m pip install sqlalchemy\n",
    "!{sys.executable} -m pip install talos\n",
    "!{sys.executable} -m pip install tensorflow\n",
    "!{sys.executable} -m pip install torch\n",
    "!{sys.executable} -m pip install wrangle\n",
    "!{sys.executable} -m pip install requests\n",
    "\n",
    "\"\"\""
   ]
  },
  {
   "cell_type": "code",
   "execution_count": 1,
   "metadata": {},
   "outputs": [
    {
     "data": {
      "text/html": [
       "        <script type=\"text/javascript\">\n",
       "        window.PlotlyConfig = {MathJaxConfig: 'local'};\n",
       "        if (window.MathJax && window.MathJax.Hub && window.MathJax.Hub.Config) {window.MathJax.Hub.Config({SVG: {font: \"STIX-Web\"}});}\n",
       "        if (typeof require !== 'undefined') {\n",
       "        require.undef(\"plotly\");\n",
       "        requirejs.config({\n",
       "            paths: {\n",
       "                'plotly': ['https://cdn.plot.ly/plotly-2.16.1.min']\n",
       "            }\n",
       "        });\n",
       "        require(['plotly'], function(Plotly) {\n",
       "            window._Plotly = Plotly;\n",
       "        });\n",
       "        }\n",
       "        </script>\n",
       "        "
      ]
     },
     "metadata": {},
     "output_type": "display_data"
    }
   ],
   "source": [
    "#Import Bibliothen\n",
    "# Zum Speichern der Daten\n",
    "import pandas as pd\n",
    "\n",
    "# Wird zur Erstellung mehrdimensionalen Arrays benötigt\n",
    "import numpy as np\n",
    "\n",
    "# interaktive Diagramme erstellen\n",
    "from plotly.offline import init_notebook_mode, plot, iplot\n",
    "import plotly.graph_objs as go\n",
    "init_notebook_mode(connected=True)\n",
    "\n",
    "# Lineare Regression \n",
    "from sklearn.linear_model import LinearRegression\n",
    "\n",
    "# Datetime\n",
    "import datetime\n",
    "\n",
    "import matplotlib.pyplot as plt\n",
    "\n",
    "import seaborn as sns\n",
    "\n",
    "import geopandas as gpd"
   ]
  },
  {
   "cell_type": "markdown",
   "metadata": {},
   "source": [
    "***\n",
    "# <a id=2>2. Laden und Aufbereiten der Daten </a>\n",
    "\n",
    "***"
   ]
  },
  {
   "cell_type": "markdown",
   "metadata": {},
   "source": [
    "## 2.1 Datenaufbereitung </a>\n",
    "***"
   ]
  },
  {
   "cell_type": "code",
   "execution_count": 2,
   "metadata": {},
   "outputs": [],
   "source": [
    "# Define actual Datapath\n",
    "path = \"C:/Python/KFW_V1/Ladesaeulenregister.csv\"\n",
    "\n",
    "df_raw= pd.read_csv(path,\n",
    "                encoding = \"ISO-8859-1\",\n",
    "                delimiter= ';',\n",
    "                decimal= ',',\n",
    "                skiprows = 10,\n",
    "                engine = 'python')\n",
    "\n",
    "\n",
    "del  path"
   ]
  },
  {
   "cell_type": "code",
   "execution_count": 3,
   "metadata": {},
   "outputs": [
    {
     "name": "stderr",
     "output_type": "stream",
     "text": [
      "C:\\Users\\jsbreite\\AppData\\Local\\Temp\\ipykernel_9768\\223194332.py:6: SettingWithCopyWarning:\n",
      "\n",
      "\n",
      "A value is trying to be set on a copy of a slice from a DataFrame.\n",
      "Try using .loc[row_indexer,col_indexer] = value instead\n",
      "\n",
      "See the caveats in the documentation: https://pandas.pydata.org/pandas-docs/stable/user_guide/indexing.html#returning-a-view-versus-a-copy\n",
      "\n",
      "C:\\Users\\jsbreite\\AppData\\Local\\Temp\\ipykernel_9768\\223194332.py:11: SettingWithCopyWarning:\n",
      "\n",
      "\n",
      "A value is trying to be set on a copy of a slice from a DataFrame.\n",
      "Try using .loc[row_indexer,col_indexer] = value instead\n",
      "\n",
      "See the caveats in the documentation: https://pandas.pydata.org/pandas-docs/stable/user_guide/indexing.html#returning-a-view-versus-a-copy\n",
      "\n",
      "C:\\Users\\jsbreite\\AppData\\Local\\Temp\\ipykernel_9768\\223194332.py:12: SettingWithCopyWarning:\n",
      "\n",
      "\n",
      "A value is trying to be set on a copy of a slice from a DataFrame.\n",
      "Try using .loc[row_indexer,col_indexer] = value instead\n",
      "\n",
      "See the caveats in the documentation: https://pandas.pydata.org/pandas-docs/stable/user_guide/indexing.html#returning-a-view-versus-a-copy\n",
      "\n",
      "C:\\Users\\jsbreite\\AppData\\Local\\Temp\\ipykernel_9768\\223194332.py:13: SettingWithCopyWarning:\n",
      "\n",
      "\n",
      "A value is trying to be set on a copy of a slice from a DataFrame.\n",
      "Try using .loc[row_indexer,col_indexer] = value instead\n",
      "\n",
      "See the caveats in the documentation: https://pandas.pydata.org/pandas-docs/stable/user_guide/indexing.html#returning-a-view-versus-a-copy\n",
      "\n",
      "C:\\Users\\jsbreite\\AppData\\Local\\Temp\\ipykernel_9768\\223194332.py:14: SettingWithCopyWarning:\n",
      "\n",
      "\n",
      "A value is trying to be set on a copy of a slice from a DataFrame.\n",
      "Try using .loc[row_indexer,col_indexer] = value instead\n",
      "\n",
      "See the caveats in the documentation: https://pandas.pydata.org/pandas-docs/stable/user_guide/indexing.html#returning-a-view-versus-a-copy\n",
      "\n",
      "C:\\Users\\jsbreite\\AppData\\Local\\Temp\\ipykernel_9768\\223194332.py:15: SettingWithCopyWarning:\n",
      "\n",
      "\n",
      "A value is trying to be set on a copy of a slice from a DataFrame.\n",
      "Try using .loc[row_indexer,col_indexer] = value instead\n",
      "\n",
      "See the caveats in the documentation: https://pandas.pydata.org/pandas-docs/stable/user_guide/indexing.html#returning-a-view-versus-a-copy\n",
      "\n",
      "C:\\Users\\jsbreite\\AppData\\Local\\Temp\\ipykernel_9768\\223194332.py:17: SettingWithCopyWarning:\n",
      "\n",
      "\n",
      "A value is trying to be set on a copy of a slice from a DataFrame.\n",
      "Try using .loc[row_indexer,col_indexer] = value instead\n",
      "\n",
      "See the caveats in the documentation: https://pandas.pydata.org/pandas-docs/stable/user_guide/indexing.html#returning-a-view-versus-a-copy\n",
      "\n",
      "C:\\Users\\jsbreite\\AppData\\Local\\Temp\\ipykernel_9768\\223194332.py:19: SettingWithCopyWarning:\n",
      "\n",
      "\n",
      "A value is trying to be set on a copy of a slice from a DataFrame.\n",
      "Try using .loc[row_indexer,col_indexer] = value instead\n",
      "\n",
      "See the caveats in the documentation: https://pandas.pydata.org/pandas-docs/stable/user_guide/indexing.html#returning-a-view-versus-a-copy\n",
      "\n",
      "C:\\Users\\jsbreite\\AppData\\Local\\Temp\\ipykernel_9768\\223194332.py:21: SettingWithCopyWarning:\n",
      "\n",
      "\n",
      "A value is trying to be set on a copy of a slice from a DataFrame.\n",
      "Try using .loc[row_indexer,col_indexer] = value instead\n",
      "\n",
      "See the caveats in the documentation: https://pandas.pydata.org/pandas-docs/stable/user_guide/indexing.html#returning-a-view-versus-a-copy\n",
      "\n",
      "C:\\Users\\jsbreite\\AppData\\Local\\Temp\\ipykernel_9768\\223194332.py:50: FutureWarning:\n",
      "\n",
      "Passing unit-less datetime64 dtype to .astype is deprecated and will raise in a future version. Pass 'datetime64[ns]' instead\n",
      "\n"
     ]
    },
    {
     "name": "stdout",
     "output_type": "stream",
     "text": [
      "<class 'pandas.core.frame.DataFrame'>\n",
      "Int64Index: 34721 entries, 0 to 34721\n",
      "Data columns (total 26 columns):\n",
      " #   Column                  Non-Null Count  Dtype         \n",
      "---  ------                  --------------  -----         \n",
      " 0   Betreiber               34721 non-null  object        \n",
      " 1   Straße                  34721 non-null  object        \n",
      " 2   Hausnummer              34721 non-null  object        \n",
      " 3   Adresszusatz            4847 non-null   object        \n",
      " 4   Postleitzahl            34721 non-null  int64         \n",
      " 5   Ort                     34721 non-null  object        \n",
      " 6   Bundesland              34721 non-null  object        \n",
      " 7   Kreis/kreisfreie Stadt  34721 non-null  object        \n",
      " 8   Breitengrad             34721 non-null  float64       \n",
      " 9   Längengrad              34721 non-null  float64       \n",
      " 10  Inbetriebnahmedatum     34721 non-null  datetime64[ns]\n",
      " 11  Anschlussleistung       34721 non-null  float64       \n",
      " 12  Normalladeeinrichtung   34721 non-null  object        \n",
      " 13  Anzahl Ladepunkte       34721 non-null  int64         \n",
      " 14  Steckertypen1           34721 non-null  object        \n",
      " 15  P1 [kW]                 34721 non-null  float64       \n",
      " 16  Public Key1             3402 non-null   object        \n",
      " 17  Steckertypen2           29071 non-null  object        \n",
      " 18  P2 [kW]                 29068 non-null  float64       \n",
      " 19  Public Key2             2845 non-null   object        \n",
      " 20  Steckertypen3           1825 non-null   object        \n",
      " 21  P3 [kW]                 1844 non-null   float64       \n",
      " 22  Public Key3             166 non-null    object        \n",
      " 23  Steckertypen4           993 non-null    object        \n",
      " 24  P4 [kW]                 993 non-null    float64       \n",
      " 25  Public Key4             122 non-null    object        \n",
      "dtypes: datetime64[ns](1), float64(7), int64(2), object(16)\n",
      "memory usage: 7.2+ MB\n",
      "None\n"
     ]
    }
   ],
   "source": [
    "df = df_raw\n",
    "\n",
    "## Daten in Float Formatieren\n",
    "\n",
    "df = df[df['Breitengrad'].str.contains('52,19168124567324.') == False]\n",
    "df['Breitengrad'] = df['Breitengrad'].astype(float)\n",
    "\n",
    "#df['Breitengrad'] = df['Breitengrad'].replace('.',',')\n",
    "\n",
    "\n",
    "df['P4 [kW]'] = df['P4 [kW]'].str.replace(',','.') \n",
    "df['P4 [kW]'] = df['P4 [kW]'].replace(',','.') \n",
    "df['P4 [kW]'] = df['P4 [kW]'].str.replace('','') \n",
    "df['P4 [kW]'] = df['P4 [kW]'].str.replace(' ','') \n",
    "df['P4 [kW]'] = df['P4 [kW]'].replace('','0')\n",
    "\n",
    "df['P4 [kW]'] = df['P4 [kW]'].astype(float)\n",
    "\n",
    "df['P4 [kW]'] = df['P4 [kW]'].replace('.',',')\n",
    "\n",
    "df['Inbetriebnahmedatum'] = pd.to_datetime(df.Inbetriebnahmedatum, dayfirst= True)\n",
    "\n",
    "Convert_df= {'Betreiber': 'object',\n",
    "                 'Straße': 'object', \n",
    "                 'Hausnummer': 'object',\n",
    "                 'Adresszusatz' : 'object',\n",
    "                 'Ort' : 'object',\n",
    "                 'Bundesland' : 'object',\n",
    "                 'Kreis/kreisfreie Stadt' : 'object',\n",
    "                 'Breitengrad' : 'float',\n",
    "                 'Längengrad' : 'float',\n",
    "                 'Inbetriebnahmedatum' : 'datetime64',\n",
    "                 'Anschlussleistung' : 'float',\n",
    "                 'Normalladeeinrichtung' : 'object',\n",
    "                 'Anzahl Ladepunkte' : 'int64',\n",
    "                 'Steckertypen1' : 'object',\n",
    "                 'P1 [kW]' : 'float',\n",
    "                 'Public Key1' : 'object',\n",
    "                 'Steckertypen2' : 'object',\n",
    "                 'P2 [kW]' : 'float',\n",
    "                 'Public Key2' : 'object',\n",
    "                 'Steckertypen3' : 'object',\n",
    "                 'P3 [kW]' : 'float',\n",
    "                 'Public Key3' : 'object',\n",
    "                 'Steckertypen4' : 'object',\n",
    "                 'P4 [kW]' : 'float',\n",
    "                 'Public Key4' : 'object'\n",
    "                  }\n",
    "\n",
    "df = df.astype(Convert_df)\n",
    "\n",
    "print(df.info())\n",
    "\n",
    "\n"
   ]
  },
  {
   "cell_type": "markdown",
   "metadata": {},
   "source": [
    "***\n",
    "## 2.2 Allgemeine Informationen zum Datenset </a>\n",
    "***"
   ]
  },
  {
   "cell_type": "code",
   "execution_count": null,
   "metadata": {},
   "outputs": [],
   "source": [
    "# df = df_raw\n",
    "# Ausgabe Datentypen\n",
    "#What are the datatypes in each column?\n",
    "print(df.info())\n",
    "\n",
    "# Let's see what attributes columns we have.\n",
    "print(df.columns)\n",
    "\n",
    "# There are quite some columns. How many, actually?\n",
    "# How many columns do you have?\n",
    "print(len(df.columns))\n",
    "\n",
    "\n"
   ]
  },
  {
   "cell_type": "code",
   "execution_count": null,
   "metadata": {},
   "outputs": [],
   "source": [
    "# Wie viele Datensätze haben wir sprich Spalten\n",
    "print(len(df.index))\n",
    "\n",
    "# Was ist die Dimension vom Datenset\n",
    "#What is the dimension of the dataset? Note: Your answer should be a tuple value.\n",
    "print(df.shape)\n",
    "\n",
    "## Wie viele Werte haben die einzelen Spalten\n",
    "print(df.count())\n",
    "\n",
    "## Anzeigen der aktuellen Datenstruktur\n",
    "#display(df)\n"
   ]
  },
  {
   "cell_type": "code",
   "execution_count": null,
   "metadata": {},
   "outputs": [],
   "source": [
    "## Löschen von doppelten Spalten\n",
    "df_f = df\n",
    "\n",
    "# Drop all rows with NaN.\n",
    "df_f = df_f.dropna(axis = 0, how = 'all', inplace = False)\n",
    "#df_f = df_f.fillna(\"\", inplace=False)\n",
    "\n",
    "#df_null_values = df_f.isnull().sum()\n",
    "\n",
    "\n",
    "print('Vor dem entfernen hatte der Datensatz {} Zeilen. Nach dem entfernen {}  Insgesamt wurden  entfernt'.format(len(df.index), len(df_f.index) ))\n",
    "\n",
    "del df_f"
   ]
  },
  {
   "cell_type": "code",
   "execution_count": null,
   "metadata": {},
   "outputs": [],
   "source": [
    "##  Ausgabe der Duplikate\n",
    "dupli = df.duplicated(keep=False).sum()\n",
    "print('In dem Datensatz Ladensauelenregister liegen {} Duplikate vor'.format(dupli))\n",
    "\n",
    "duplicateRowsDF = df[df.duplicated()]\n",
    "duplicateRowsDF = duplicateRowsDF.sort_values(by=['Breitengrad'])\n",
    "display(duplicateRowsDF)\n",
    "\n",
    "\n",
    "del duplicateRowsDF , dupli"
   ]
  },
  {
   "cell_type": "code",
   "execution_count": null,
   "metadata": {},
   "outputs": [],
   "source": [
    "## Exportieren der Dateien in eine CSV\n",
    "\n",
    "path_csv = \"C:/Python/KFW_V1/Ladesaeulenregister_Bearbeitet.csv\"\n",
    "df.to_csv(path_csv,\n",
    "            sep = ';',\n",
    "            header = True,\n",
    "            index= True,\n",
    "            decimal= ','\n",
    "            \n",
    "            )"
   ]
  },
  {
   "cell_type": "code",
   "execution_count": null,
   "metadata": {},
   "outputs": [],
   "source": [
    "# Exportieren der Daten in ein Parquet\n",
    "parquet_df= 'C:/Python/KFW_V1/Ladesaeulenregister_Bearbeitet.zip'\n",
    "df.to_parquet(parquet_df, index = True)\n"
   ]
  },
  {
   "attachments": {},
   "cell_type": "markdown",
   "metadata": {},
   "source": [
    "\n",
    "***\n",
    "# <a id=3>3. Explorative Datenanalyse </a>\n",
    "\n",
    "***\n",
    "\n"
   ]
  },
  {
   "attachments": {},
   "cell_type": "markdown",
   "metadata": {},
   "source": [
    "## 3.1. Importieren der Daten </a>"
   ]
  },
  {
   "cell_type": "code",
   "execution_count": null,
   "metadata": {},
   "outputs": [],
   "source": [
    "parquet_df= 'C:/Python/KFW_V1/Ladesaeulenregister_Bearbeitet.zip'\n",
    "df = pd.read_parquet(parquet_df)\n",
    "\n",
    "Convert_df= {'Betreiber': 'object', \n",
    "                 'Straße': 'object', \n",
    "                 'Hausnummer': 'object',\n",
    "                 'Adresszusatz' : 'object',\n",
    "                 'Ort' : 'object',\n",
    "                 'Bundesland' : 'object',\n",
    "                 'Kreis/kreisfreie Stadt' : 'object',\n",
    "                 'Breitengrad' : 'float',\n",
    "                 'Längengrad' : 'float',\n",
    "                 'Inbetriebnahmedatum' : 'datetime64',\n",
    "                 'Anschlussleistung' : 'float',\n",
    "                 'Normalladeeinrichtung' : 'object',\n",
    "                 'Anzahl Ladepunkte' : 'int64',\n",
    "                 'Steckertypen1' : 'object',\n",
    "                 'P1 [kW]' : 'float',\n",
    "                 'Public Key1' : 'object',\n",
    "                 'Steckertypen2' : 'object',\n",
    "                 'P2 [kW]' : 'float',\n",
    "                 'Public Key2' : 'object',\n",
    "                 'Steckertypen3' : 'object',\n",
    "                 'P3 [kW]' : 'float',\n",
    "                 'Public Key3' : 'object',\n",
    "                 'Steckertypen4' : 'object',\n",
    "                 'P4 [kW]' : 'float',\n",
    "                 'Public Key4' : 'object'\n",
    "                  }\n",
    "\n",
    "df = df.astype(Convert_df)\n"
   ]
  },
  {
   "attachments": {},
   "cell_type": "markdown",
   "metadata": {},
   "source": [
    "## 3.2. Allgeime Daten über die Datensets </a>"
   ]
  },
  {
   "cell_type": "code",
   "execution_count": null,
   "metadata": {},
   "outputs": [],
   "source": [
    "# Show missing values in a figure --> Get first Idea how Much Data is missing\n",
    "\n",
    "plt.figure(figsize=(15,5))\n",
    "sns.heatmap(df.isnull(), cbar=False, yticklabels=False, cmap='Greys')\n",
    "plt.xticks(rotation=45, fontsize=6)\n",
    "plt.tight_layout()\n",
    "#plt.savefig('C:/Python/KFW_V1/Ladesaeulenregister_Duplis.pdf')\n",
    "plt.plot()\n",
    "#plt.close()\n"
   ]
  },
  {
   "cell_type": "code",
   "execution_count": null,
   "metadata": {},
   "outputs": [],
   "source": [
    "print('# Anzahl der Betreiber bei Gruppe \\n ')\n",
    "df_Betreiber_cnt_tmp = df.groupby(['Betreiber'])['Betreiber'].count().sort_values(ascending=False)\n",
    "print(df_Betreiber_cnt_tmp.head(10))\n",
    "print('\\n')\n",
    "\n",
    "print( '# Anzahl der Normalladeeinrichtung \\n')\n",
    "df_n_cnt = df.groupby(['Normalladeeinrichtung'])['Normalladeeinrichtung'].count().sort_values(ascending=False)\n",
    "print(df_n_cnt.head(10))\n",
    "print('\\n')\n",
    "\n"
   ]
  },
  {
   "cell_type": "code",
   "execution_count": null,
   "metadata": {},
   "outputs": [],
   "source": [
    "print('# Gruppierung nach Anschlussleistung \\n') \n",
    "df_An_cnt = df.groupby(['Anschlussleistung'])['Anschlussleistung'].count().sort_values(ascending=False)\n",
    "print(df_An_cnt.head(10))\n",
    "print('\\n')\n"
   ]
  },
  {
   "cell_type": "code",
   "execution_count": null,
   "metadata": {},
   "outputs": [],
   "source": [
    "print('# Gruppierung nach Bundesland \\n') \n",
    "df_B_cnt = df.groupby(['Bundesland'])['Bundesland'].count().sort_values(ascending=False)\n",
    "print(df_B_cnt.head(10))\n",
    "print('\\n')\n",
    "\n",
    "print('# Gruppierung nach Max Leistung \\n') \n",
    "df_kw_cnt = df.groupby(['P1 [kW]'])['P1 [kW]'].count().sort_values(ascending=False)\n",
    "print(df_kw_cnt.head(10))\n",
    "print('\\n')\n"
   ]
  },
  {
   "cell_type": "code",
   "execution_count": null,
   "metadata": {},
   "outputs": [],
   "source": [
    "print('# Anzahl der maximalen Ladepunkten innerhalb von Deutschland \\n') \n",
    "df_lpm_cnt = df['Anzahl Ladepunkte']\n",
    "df_lpm_cnt = df_lpm_cnt.max()\n",
    "print(df_lpm_cnt)\n",
    "print('\\n')\n",
    "\n",
    "# Durchschnittswert\n",
    "print('# Ermittlung der Durchschnittswerte \\n') \n",
    "list_columns = ['Anschlussleistung',\n",
    "                'Anzahl Ladepunkte', 'P1 [kW]', 'P2 [kW]', 'P3 [kW]', 'P4 [kW]']\n",
    "df1 = df[list_columns]\n",
    "print(df1.mean(axis=0, skipna = True))\n",
    "\n",
    "\n",
    "\n",
    "# del df_Betreiber_cnt_tmp ,df_n_cnt ,df_An_cnt ,df_B_cnt ,df_kw_cnt , df_lp_cnt, df_lpm_cnt , df1"
   ]
  },
  {
   "cell_type": "code",
   "execution_count": null,
   "metadata": {},
   "outputs": [],
   "source": [
    "print('# Anzahl von Ladepunkten innerhalb von Deutschland \\n') \n",
    "df_lp_cnt = df['Anzahl Ladepunkte']\n",
    "df_lp_cnt = df_lp_cnt.sum(axis = 0, skipna = True)\n",
    "print(df_lp_cnt)\n",
    "print('\\n')"
   ]
  },
  {
   "cell_type": "code",
   "execution_count": null,
   "metadata": {},
   "outputs": [],
   "source": [
    "# Daten einholen\n",
    "#data = df['Inbetriebnahmedatum'].value_counts().sort_index()\n",
    "data = pd.to_datetime(df['Inbetriebnahmedatum'], format='%d.%m.%Y').value_counts().sort_index()\n",
    "#df['Inbetriebnahmedatum'] = pd.to_datetime(df['Inbetriebnahmedatum'], format='%d.%m.%Y')\n",
    "\n",
    "# Linie erstellen\n",
    "trace = go.Scatter(x = data.index,\n",
    "                   y = data.values,\n",
    "                   marker = dict(color = '#db0000'))\n",
    "# Layout erstellen\n",
    "layout = dict(title = '{} Ladesäulen sortiert nach Inbetriebnahme'.format(df.shape[0]),\n",
    "              xaxis = dict(title = 'Inbetriebnahmejahr'),\n",
    "              yaxis = dict(title = 'Säule'))\n",
    "\n",
    "# Plot erstellen\n",
    "fig = go.Figure(data=[trace], layout=layout)\n",
    "iplot(fig)\n",
    "\n",
    "\n",
    "del layout, trace, fig, data"
   ]
  },
  {
   "cell_type": "code",
   "execution_count": null,
   "metadata": {},
   "outputs": [],
   "source": [
    "# Darstellen der Stationen innerhalb Deutschland\n",
    "\n",
    "gdf = gpd.GeoDataFrame(df, geometry= gpd.points_from_xy(df.Längengrad, df.Breitengrad))\n",
    "world = gpd.read_file(gpd.datasets.get_path('naturalearth_lowres'))\n",
    "cities = gpd.read_file(gpd.datasets.get_path('naturalearth_cities'))\n",
    "\n",
    "# We restrict to South America.\n",
    "ax = world[world.name == 'Germany'].plot(\n",
    "    color='white', edgecolor='black')\n",
    "\n",
    "\n",
    "\n",
    "# We can now plot our ``GeoDataFrame``.\n",
    "gdf.plot(ax=ax, color='blue',alpha = 0.1 , markersize=3 )\n",
    "\n",
    "## Mathplotly better\n",
    "plt.show()\n",
    "\n",
    "\n",
    "# Delete Ladesäulen which are out of Germany"
   ]
  },
  {
   "cell_type": "code",
   "execution_count": null,
   "metadata": {},
   "outputs": [],
   "source": [
    "list_columns = ['Anschlussleistung',\n",
    "                'Anzahl Ladepunkte', 'P1 [kW]', 'P2 [kW]', 'P3 [kW]', 'P4 [kW]']\n",
    "df = df[list_columns]\n",
    "corr_matrix = df.corr(method = 'pearson')\n",
    "sns.heatmap(corr_matrix, annot=True)\n",
    "plt.show()\n"
   ]
  },
  {
   "cell_type": "code",
   "execution_count": null,
   "metadata": {},
   "outputs": [],
   "source": [
    "\"\"\"\n",
    "Todos\n",
    "Data Analyses\n",
    "-   Correlation of \"Betreiber\" and \"KW 1\"\n",
    "    -   ONE Hot Encoding\n",
    "-  Some Zooming, missing City and Area \n",
    "\n",
    "\n",
    "\n",
    "Further Ideas\n",
    "- Prediction of future \"Anzahl Ladesäule\"\n",
    "    - Linear Regression\n",
    "    \n",
    "- Establish local data connection to e-car registrations and charging stations, to find out capacity gaps in some regions or not.\n",
    "    -  Which Cities are underpresented\n",
    "- Relate the coordinates of service areas and charging stations to find out if there are gaps.\n",
    "    - Missing Data of Coordinates\n",
    "    - \n",
    "- Distribution of fast charging stations in Germany. Maybe as preliminary work to connect the main traffic routes with it, afterwards.\n",
    "    -  Missing Data \n",
    "\n",
    "\n",
    "\"\"\""
   ]
  },
  {
   "cell_type": "code",
   "execution_count": null,
   "metadata": {},
   "outputs": [],
   "source": [
    "df['Inbetriebnahmedatum'] = pd.to_datetime(df['Inbetriebnahmedatum'], format='%d.%m.%Y')# Drop all rows with NaN.\n",
    "# df = df.dropna(axis=0)\n",
    "df_null_values = df.isnull().sum()\n",
    "# print('NANs_After_Update?', df_null_values)\n",
    "# print('// complete ........ Pre-Processing')\n",
    "# ------------------------------------------\n",
    "# Exploring the Data\n",
    "# ------------------------------------------\n",
    "# Select only the inserting one\n",
    "list_columns = ['Bundesland','Postleitzahl', 'Breitengrad', 'Längengrad',\n",
    "                'Inbetriebnahmedatum', 'Anschlussleistung',\n",
    "                'Normalladeeinrichtung', 'Anzahl Ladepunkte']\n",
    "df = df[list_columns]\n",
    "# Count column over yeas. Output: Series. Therefore, convert to pandas DataFrame.\n",
    "\n",
    "df_year_count = df['Inbetriebnahmedatum'].dt.year.value_counts().to_frame()\n",
    "fig, ax = plt.subplots()\n",
    "ax.spines['right'].set_visible(False)\n",
    "ax.spines['top'].set_visible(False)\n",
    "ax.yaxis.set_ticks_position('left')\n",
    "ax.xaxis.set_ticks_position('bottom')\n",
    "sns.barplot(data=df_year_count, x=df_year_count.index, y=\"Inbetriebnahmedatum\", color='gray',\n",
    "             linewidth=1.0)  # , marker='o', label='Portfolio Value', ax=ax[0])\n",
    "plt.xlabel('Year')\n",
    "plt.ylabel('Count')\n",
    "plt.xticks(rotation=80)\n",
    "# plt.savefig('fig_count_plot_count_year.pdf')\n",
    "plt.show()\n",
    "plt.close()\n",
    "print('// complete ....... count plot')"
   ]
  },
  {
   "attachments": {},
   "cell_type": "markdown",
   "metadata": {},
   "source": [
    "\n",
    "***\n",
    "# <a id=4>4. Modellentwicklung </a>\n",
    "\n",
    "***\n",
    "\n"
   ]
  },
  {
   "attachments": {},
   "cell_type": "markdown",
   "metadata": {},
   "source": [
    "## 4.1. Extrahieren des Datums und des Monats und der Kalenderwoche </a>\n",
    "\n",
    "***"
   ]
  },
  {
   "cell_type": "code",
   "execution_count": null,
   "metadata": {},
   "outputs": [],
   "source": [
    "# Exportieren der Daten in ein Parquet\n",
    "parquet_df= 'C:/Python/KFW_V1/Ladesaeulenregister_Bearbeitet.zip'\n",
    "df.to_parquet(parquet_df, index = True)"
   ]
  },
  {
   "cell_type": "code",
   "execution_count": null,
   "metadata": {},
   "outputs": [],
   "source": [
    "# löschen von Df\n",
    "del df, df_sum , df_sum_n"
   ]
  },
  {
   "cell_type": "code",
   "execution_count": 4,
   "metadata": {},
   "outputs": [
    {
     "name": "stdout",
     "output_type": "stream",
     "text": [
      "<class 'pandas.core.frame.DataFrame'>\n",
      "Int64Index: 34721 entries, 0 to 34721\n",
      "Data columns (total 26 columns):\n",
      " #   Column                  Non-Null Count  Dtype         \n",
      "---  ------                  --------------  -----         \n",
      " 0   Betreiber               34721 non-null  object        \n",
      " 1   Straße                  34721 non-null  object        \n",
      " 2   Hausnummer              34721 non-null  object        \n",
      " 3   Adresszusatz            4847 non-null   object        \n",
      " 4   Postleitzahl            34721 non-null  int64         \n",
      " 5   Ort                     34721 non-null  object        \n",
      " 6   Bundesland              34721 non-null  object        \n",
      " 7   Kreis/kreisfreie Stadt  34721 non-null  object        \n",
      " 8   Breitengrad             34721 non-null  float64       \n",
      " 9   Längengrad              34721 non-null  float64       \n",
      " 10  Inbetriebnahmedatum     34721 non-null  datetime64[ns]\n",
      " 11  Anschlussleistung       34721 non-null  float64       \n",
      " 12  Normalladeeinrichtung   34721 non-null  object        \n",
      " 13  Anzahl Ladepunkte       34721 non-null  int64         \n",
      " 14  Steckertypen1           34721 non-null  object        \n",
      " 15  P1 [kW]                 34721 non-null  float64       \n",
      " 16  Public Key1             3402 non-null   object        \n",
      " 17  Steckertypen2           29071 non-null  object        \n",
      " 18  P2 [kW]                 29068 non-null  float64       \n",
      " 19  Public Key2             2845 non-null   object        \n",
      " 20  Steckertypen3           1825 non-null   object        \n",
      " 21  P3 [kW]                 1844 non-null   float64       \n",
      " 22  Public Key3             166 non-null    object        \n",
      " 23  Steckertypen4           993 non-null    object        \n",
      " 24  P4 [kW]                 993 non-null    float64       \n",
      " 25  Public Key4             122 non-null    object        \n",
      "dtypes: datetime64[ns](1), float64(7), int64(2), object(16)\n",
      "memory usage: 7.2+ MB\n",
      "None\n"
     ]
    },
    {
     "name": "stderr",
     "output_type": "stream",
     "text": [
      "C:\\Users\\jsbreite\\AppData\\Local\\Temp\\ipykernel_9768\\394239809.py:31: FutureWarning:\n",
      "\n",
      "Passing unit-less datetime64 dtype to .astype is deprecated and will raise in a future version. Pass 'datetime64[ns]' instead\n",
      "\n"
     ]
    }
   ],
   "source": [
    "# Importieren der Daten in ein Parquet\n",
    "parquet_df= 'C:/Python/KFW_V1/Ladesaeulenregister_Bearbeitet.zip'\n",
    "df = pd.read_parquet(parquet_df)\n",
    "Convert_df= {'Betreiber': 'object',\n",
    "                 'Straße': 'object', \n",
    "                 'Hausnummer': 'object',\n",
    "                 'Adresszusatz' : 'object',\n",
    "                 'Ort' : 'object',\n",
    "                 'Bundesland' : 'object',\n",
    "                 'Kreis/kreisfreie Stadt' : 'object',\n",
    "                 'Breitengrad' : 'float',\n",
    "                 'Längengrad' : 'float',\n",
    "                 'Inbetriebnahmedatum' : 'datetime64',\n",
    "                 'Anschlussleistung' : 'float',\n",
    "                 'Normalladeeinrichtung' : 'object',\n",
    "                 'Anzahl Ladepunkte' : 'int64',\n",
    "                 'Steckertypen1' : 'object',\n",
    "                 'P1 [kW]' : 'float',\n",
    "                 'Public Key1' : 'object',\n",
    "                 'Steckertypen2' : 'object',\n",
    "                 'P2 [kW]' : 'float',\n",
    "                 'Public Key2' : 'object',\n",
    "                 'Steckertypen3' : 'object',\n",
    "                 'P3 [kW]' : 'float',\n",
    "                 'Public Key3' : 'object',\n",
    "                 'Steckertypen4' : 'object',\n",
    "                 'P4 [kW]' : 'float',\n",
    "                 'Public Key4' : 'object'\n",
    "                  }\n",
    "\n",
    "df = df.astype(Convert_df)\n",
    "\n",
    "print(df.info())"
   ]
  },
  {
   "cell_type": "code",
   "execution_count": 5,
   "metadata": {},
   "outputs": [
    {
     "name": "stdout",
     "output_type": "stream",
     "text": [
      "0        2019-03-01\n",
      "1        2019-10-01\n",
      "2        2019-08-01\n",
      "3        2022-05-01\n",
      "4        2019-02-01\n",
      "            ...    \n",
      "34717    2021-08-01\n",
      "34718    2021-08-01\n",
      "34719    2022-01-01\n",
      "34720    2022-09-01\n",
      "34721    2018-03-01\n",
      "Name: date_month, Length: 34721, dtype: object\n"
     ]
    }
   ],
   "source": [
    "\n",
    "# Wandle die Spalte \"date\" in ein Datetime-Format um\n",
    "df[\"Inbetriebnahmedatum\"] = pd.to_datetime(df[\"Inbetriebnahmedatum\"])\n",
    "\n",
    "# Extraktion der Kalenderwoche und des Jahres\n",
    "df[\"month\"] = df[\"Inbetriebnahmedatum\"].apply(lambda x: x.strftime(\"%m\"))\n",
    "df[\"week\"]  = df[\"Inbetriebnahmedatum\"].apply(lambda x: x.strftime(\"%V\"))\n",
    "df[\"year\"]  = df[\"Inbetriebnahmedatum\"].apply(lambda x: x.strftime(\"%Y\"))\n",
    "\n",
    "# Erstelle eine neue Spalte \"date_week\" aus dem Datum und der Kalenderwoche\n",
    "df[\"date_week\"] = df[\"Inbetriebnahmedatum\"].apply(lambda x: x.strftime(\"%Y-%V\"))\n",
    "df[\"date_month\"] = df[\"Inbetriebnahmedatum\"].apply(lambda x: x.strftime(\"%Y-%m-01\"))\n",
    "\n",
    "\n",
    "# Ausgabe der Ergebnisse\n",
    "print(df[\"date_month\"])\n",
    "\n",
    "df['date_month'] = pd.to_datetime(df['date_month'])\n"
   ]
  },
  {
   "cell_type": "code",
   "execution_count": null,
   "metadata": {},
   "outputs": [],
   "source": [
    "# Gruppieren nach Monatlichen Daten\n",
    "df_sum = df.groupby('date_month')['Anschlussleistung'].agg(['sum','count']) \n",
    "\n",
    "# Ersetzen des Index durch Zahlen\n",
    "df_sum = df_sum.reset_index()\n",
    "\n",
    "print(df_sum)\n",
    "\n",
    "\n",
    "## Löschen aller Daten vor dem 1.10.2010\n",
    "df_sum.drop(df_sum.index[[0,1,2,3,4,5,6,7,8,9,10,11,12,13,14]], inplace=True)\n",
    "\n",
    "## Formatieren des Date_Month Datums\n",
    "df_sum['date_month'] = pd.to_datetime(df_sum['date_month'])\n",
    "\n",
    "\n",
    "df_sum_n = df_sum.to_numpy()\n",
    "\n",
    "df_sum.set_index('date_month', inplace= True)\n",
    "\n",
    "#mean_value = sum(df_sum([\"sum\"])) / len(df_sum)\n",
    "\n",
    "# Aufgrunddessen, dass die Werte Fehlen füllen wir diese mit 0 \n",
    "new_index = pd.date_range('2010-01-01', '2022-09-01', freq='MS')\n",
    "df_sum = df_sum.reindex(new_index)"
   ]
  },
  {
   "cell_type": "code",
   "execution_count": null,
   "metadata": {},
   "outputs": [],
   "source": [
    "## Exportieren der Dateien in eine XLXS \n",
    "\n",
    "path_csv = \"C:/Python/KFW_V1/Ladesaeulenregister_Bearbeitet_Jannis.xlsx\"\n",
    "df_sum.to_excel(path_csv,\n",
    "            header = True,\n",
    "            index= True           \n",
    "            )"
   ]
  },
  {
   "attachments": {},
   "cell_type": "markdown",
   "metadata": {},
   "source": [
    "***\n",
    "\n",
    "## 4.2. Vorhersage der neuen Zulassung von Ladesäulen </a>\n",
    "\n",
    "***"
   ]
  },
  {
   "cell_type": "code",
   "execution_count": null,
   "metadata": {},
   "outputs": [],
   "source": [
    "# dataframe opertations - pandas\n",
    "import pandas as pd\n",
    "# plotting data - matplotlib\n",
    "from matplotlib import pyplot as plt\n",
    "# time series - statsmodels \n",
    "# Seasonality decomposition\n",
    "from statsmodels.tsa.seasonal import seasonal_decompose\n",
    "from statsmodels.tsa.seasonal import seasonal_decompose \n",
    "# holt winters \n",
    "# single exponential smoothing\n",
    "from statsmodels.tsa.holtwinters import SimpleExpSmoothing   \n",
    "# double and triple exponential smoothing\n",
    "from statsmodels.tsa.holtwinters import ExponentialSmoothing"
   ]
  },
  {
   "cell_type": "code",
   "execution_count": null,
   "metadata": {},
   "outputs": [],
   "source": [
    "# plotting the original data\n",
    "df_sum[['count']].plot(title='Anzahl der neuen Ladesäulen')\n",
    "decompose_result = seasonal_decompose(df_sum['count'],model='multiplicative')\n",
    "decompose_result.plot()"
   ]
  },
  {
   "cell_type": "code",
   "execution_count": null,
   "metadata": {},
   "outputs": [],
   "source": [
    "df_sum.index.freq = 'MS'\n",
    "m = 12\n",
    "alpha = 1/(2*m)"
   ]
  },
  {
   "cell_type": "code",
   "execution_count": null,
   "metadata": {},
   "outputs": [],
   "source": [
    "df_sum['HWES1'] = SimpleExpSmoothing(df_sum['count']).fit(smoothing_level=alpha,optimized=False,use_brute=True).fittedvalues\n",
    "\n",
    "\n",
    "df_sum[['count','HWES1']].plot(title='Holt Winters Single Exponential Smoothing')"
   ]
  },
  {
   "cell_type": "code",
   "execution_count": null,
   "metadata": {},
   "outputs": [],
   "source": [
    "df_sum['HWES2_ADD'] = ExponentialSmoothing(df_sum['count'],trend='add').fit().fittedvalues\n",
    "df_sum['HWES2_MUL'] = ExponentialSmoothing(df_sum['count'],trend='mul').fit().fittedvalues\n",
    "df_sum[['count','HWES2_ADD','HWES2_MUL']].plot(title='Holt Winters Double Exponential Smoothing: Additive and Multiplicative Trend')"
   ]
  },
  {
   "cell_type": "code",
   "execution_count": null,
   "metadata": {},
   "outputs": [],
   "source": [
    "df_sum['HWES3_ADD'] = ExponentialSmoothing(df_sum['sum'],trend='add',seasonal='add' ,seasonal_periods=12).fit().fittedvalues\n",
    "df_sum['HWES3_MUL'] = ExponentialSmoothing(df_sum['count'],trend='mul',seasonal='mul',seasonal_periods=12).fit().fittedvalues\n",
    "df_sum[['count','HWES3_ADD','HWES3_MUL']].plot(title='Holt Winters Triple Exponential Smoothing: Additive and Multiplicative Seasonality')"
   ]
  },
  {
   "cell_type": "code",
   "execution_count": null,
   "metadata": {},
   "outputs": [],
   "source": [
    "# Gruppieren nach Monatlichen Daten\n",
    "df_s = df.groupby('date_month')['Anschlussleistung'].agg(['count']) \n",
    "\n",
    "# Ersetzen des Index durch Zahlen\n",
    "df_s = df_s.reset_index()\n",
    "\n",
    "\n",
    "\n",
    "## Löschen aller Daten vor dem 1.10.2010\n",
    "df_s.drop(df_s.index[[0,1,2,3,4,5,6,7,8,9,10,11,12,13,14]], inplace=True)\n",
    "\n",
    "## Formatieren des Date_Month Datums\n",
    "df_s['date_month'] = pd.to_datetime(df_s['date_month'])\n",
    "\n",
    "\n",
    "df_s.set_index('date_month', inplace= True)\n",
    "\n",
    "#mean_value = sum(df_sum([\"sum\"])) / len(df_sum)\n",
    "\n",
    "# Aufgrunddessen, dass die Werte Fehlen füllen wir diese mit 0 \n",
    "new_index_s = pd.date_range('2010-01-01', '2022-09-01', freq='MS')\n",
    "df_s = df_s.reindex(new_index_s)"
   ]
  },
  {
   "cell_type": "code",
   "execution_count": 34,
   "metadata": {},
   "outputs": [
    {
     "name": "stderr",
     "output_type": "stream",
     "text": [
      "c:\\Users\\jsbreite\\.virtualenvs\\KFW_V1-n7B7ZO_c\\lib\\site-packages\\statsmodels\\tsa\\holtwinters\\model.py:83: RuntimeWarning:\n",
      "\n",
      "overflow encountered in matmul\n",
      "\n"
     ]
    },
    {
     "data": {
      "text/plain": [
       "Text(0.5, 1.0, 'Train, Test and Predicted Test using Holt Winters')"
      ]
     },
     "execution_count": 34,
     "metadata": {},
     "output_type": "execute_result"
    },
    {
     "data": {
      "image/png": "[encoded data removed]",
      "text/plain": [
       "<Figure size 600x400 with 1 Axes>"
      ]
     },
     "metadata": {},
     "output_type": "display_data"
    }
   ],
   "source": [
    "forecast_data = df_s\n",
    "\n",
    "forecast_data.index.freq = 'MS'\n",
    "\n",
    "# Split into train and test set\n",
    "train_df_s = forecast_data[:130]\n",
    "test_df_s = forecast_data[130:]\n",
    "\n",
    "# What are we even waiting for, Let’s fit and forecast,\n",
    "\n",
    "fitted_model = ExponentialSmoothing(train_df_s['count'],trend='mul',seasonal='mul').fit()\n",
    "test_predictions = fitted_model.forecast(23)\n",
    "train_df_s['count'].plot(legend=True,label='TRAIN')\n",
    "test_df_s['count'].plot(legend=True,label='TEST',figsize=(6,4))\n",
    "test_predictions.plot(legend=True,label='PREDICTION')\n",
    "plt.title('Train, Test and Predicted Test using Holt Winters')"
   ]
  },
  {
   "cell_type": "code",
   "execution_count": 33,
   "metadata": {},
   "outputs": [
    {
     "name": "stdout",
     "output_type": "stream",
     "text": [
      "2020-11-01     634.254611\n",
      "2020-12-01     723.692951\n",
      "2021-01-01     503.284826\n",
      "2021-02-01     445.319850\n",
      "2021-03-01     494.838676\n",
      "                 ...     \n",
      "2029-10-01    7447.113873\n",
      "2029-11-01    8074.484625\n",
      "2029-12-01    9213.094403\n",
      "2030-01-01    6407.151822\n",
      "2030-02-01    5669.218986\n",
      "Freq: MS, Length: 112, dtype: float64\n"
     ]
    }
   ],
   "source": [
    "print(test_predictions)"
   ]
  },
  {
   "cell_type": "code",
   "execution_count": 36,
   "metadata": {},
   "outputs": [
    {
     "name": "stdout",
     "output_type": "stream",
     "text": [
      "Mean Absolute Error = 123.29756237056529\n",
      "Mean Squared Error = 21985.507328869415\n"
     ]
    },
    {
     "data": {
      "image/png": "[encoded data removed]",
      "text/plain": [
       "<Figure size 600x400 with 1 Axes>"
      ]
     },
     "metadata": {},
     "output_type": "display_data"
    }
   ],
   "source": [
    "test_df_s['count'].plot(legend=True,label='TEST',figsize=(6,4))\n",
    "test_predictions.plot(legend=True,label='PREDICTION',xlim=['2020-11-01','2030-02-01'])\n",
    "\n",
    "from sklearn.metrics import mean_absolute_error,mean_squared_error\n",
    "print(f'Mean Absolute Error = {mean_absolute_error(test_df_s,test_predictions)}')\n",
    "print(f'Mean Squared Error = {mean_squared_error(test_df_s,test_predictions)}')"
   ]
  },
  {
   "cell_type": "code",
   "execution_count": 37,
   "metadata": {},
   "outputs": [
    {
     "name": "stderr",
     "output_type": "stream",
     "text": [
      "c:\\Users\\jsbreite\\.virtualenvs\\KFW_V1-n7B7ZO_c\\lib\\site-packages\\statsmodels\\tsa\\holtwinters\\model.py:83: RuntimeWarning:\n",
      "\n",
      "overflow encountered in matmul\n",
      "\n"
     ]
    },
    {
     "data": {
      "text/plain": [
       "Text(0.5, 1.0, 'Train, Test and Predicted Test using Holt Winters')"
      ]
     },
     "execution_count": 37,
     "metadata": {},
     "output_type": "execute_result"
    },
    {
     "data": {
      "image/png": "[encoded data removed]",
      "text/plain": [
       "<Figure size 600x400 with 1 Axes>"
      ]
     },
     "metadata": {},
     "output_type": "display_data"
    }
   ],
   "source": [
    "## Vorhersage von den nächsten 10 Jahre\n",
    "\n",
    "forecast_data = df_s\n",
    "\n",
    "forecast_data.index.freq = 'MS'\n",
    "\n",
    "# Split into train and test set\n",
    "train_df_s = forecast_data[:130]\n",
    "test_df_s = forecast_data[130:]\n",
    "\n",
    "# What are we even waiting for, Let’s fit and forecast,\n",
    "\n",
    "fitted_model = ExponentialSmoothing(train_df_s['count'],trend='mul',seasonal='mul').fit()\n",
    "test_predictions = fitted_model.forecast(120)\n",
    "train_df_s['count'].plot(legend=True,label='TRAIN')\n",
    "test_df_s['count'].plot(legend=True,label='TEST',figsize=(6,4))\n",
    "test_predictions.plot(legend=True,label='PREDICTION')\n",
    "plt.title('Train, Test and Predicted Test using Holt Winters')"
   ]
  },
  {
   "cell_type": "code",
   "execution_count": 38,
   "metadata": {},
   "outputs": [],
   "source": [
    "## Exportieren der Dateien in eine XLXS \n",
    "\n",
    "path_csv = \"C:/Python/KFW_V1/Ladesaeulenregister_PRediction-Anzahl.xlsx\"\n",
    "test_predictions.to_excel(path_csv,\n",
    "            header = True,\n",
    "            index= True           \n",
    "            )"
   ]
  },
  {
   "attachments": {},
   "cell_type": "markdown",
   "metadata": {},
   "source": [
    "***\n",
    "\n",
    "## 4.3. Vorhersage von KW der Ladesäulen </a>\n",
    "\n",
    "***"
   ]
  },
  {
   "cell_type": "code",
   "execution_count": 10,
   "metadata": {},
   "outputs": [],
   "source": [
    "# dataframe opertations - pandas\n",
    "import pandas as pd\n",
    "# plotting data - matplotlib\n",
    "from matplotlib import pyplot as plt\n",
    "# time series - statsmodels \n",
    "# Seasonality decomposition\n",
    "from statsmodels.tsa.seasonal import seasonal_decompose\n",
    "from statsmodels.tsa.seasonal import seasonal_decompose \n",
    "# holt winters \n",
    "# single exponential smoothing\n",
    "from statsmodels.tsa.holtwinters import SimpleExpSmoothing   \n",
    "# double and triple exponential smoothing\n",
    "from statsmodels.tsa.holtwinters import ExponentialSmoothing"
   ]
  },
  {
   "cell_type": "code",
   "execution_count": 7,
   "metadata": {},
   "outputs": [
    {
     "name": "stdout",
     "output_type": "stream",
     "text": [
      "    date_month        sum\n",
      "0   1900-03-01      22.00\n",
      "1   1992-10-01      11.00\n",
      "2   2001-01-01      22.00\n",
      "3   2007-05-01      22.00\n",
      "4   2007-12-01      11.00\n",
      "..         ...        ...\n",
      "163 2022-05-01   37542.00\n",
      "164 2022-06-01  120101.45\n",
      "165 2022-07-01   47888.10\n",
      "166 2022-08-01   33169.65\n",
      "167 2022-09-01   30653.30\n",
      "\n",
      "[168 rows x 2 columns]\n"
     ]
    }
   ],
   "source": [
    "# Gruppieren nach Monatlichen Daten\n",
    "df_summe = df.groupby('date_month')['Anschlussleistung'].agg(['sum']) \n",
    "\n",
    "# Ersetzen des Index durch Zahlen\n",
    "df_summe = df_summe.reset_index()\n",
    "\n",
    "print(df_summe)\n",
    "\n",
    "\n",
    "## Löschen aller Daten vor dem 1.10.2010\n",
    "df_summe.drop(df_summe.index[[0,1,2,3,4,5,6,7,8,9,10,11,12,13,14]], inplace=True)\n",
    "\n",
    "## Formatieren des Date_Month Datums\n",
    "df_summe['date_month'] = pd.to_datetime(df_summe['date_month'])\n",
    "\n",
    "df_summe.set_index('date_month', inplace= True)\n",
    "\n",
    "#mean_value = sum(df_sum([\"sum\"])) / len(df_sum)\n",
    "\n",
    "# Aufgrunddessen, dass die Werte Fehlen füllen wir diese mit 0 \n",
    "new_index = pd.date_range('2010-01-01', '2022-09-01', freq='MS')\n",
    "df_summe = df_summe.reindex(new_index)"
   ]
  },
  {
   "cell_type": "code",
   "execution_count": 11,
   "metadata": {},
   "outputs": [
    {
     "name": "stderr",
     "output_type": "stream",
     "text": [
      "c:\\Users\\jsbreite\\.virtualenvs\\KFW_V1-n7B7ZO_c\\lib\\site-packages\\statsmodels\\tsa\\holtwinters\\model.py:915: ConvergenceWarning:\n",
      "\n",
      "Optimization failed to converge. Check mle_retvals.\n",
      "\n"
     ]
    },
    {
     "data": {
      "text/plain": [
       "Text(0.5, 1.0, 'Train, Test and Predicted Test using Holt Winters')"
      ]
     },
     "execution_count": 11,
     "metadata": {},
     "output_type": "execute_result"
    },
    {
     "data": {
      "image/png": "[encoded data removed]",
      "text/plain": [
       "<Figure size 600x400 with 1 Axes>"
      ]
     },
     "metadata": {},
     "output_type": "display_data"
    }
   ],
   "source": [
    "forecast_data_sum = df_summe\n",
    "\n",
    "forecast_data_sum.index.freq = 'MS'\n",
    "\n",
    "# Split into train and test set\n",
    "train_df_sum = forecast_data_sum[:130]\n",
    "test_df_sum = forecast_data_sum[130:]\n",
    "\n",
    "# What are we even waiting for, Let’s fit and forecast,\n",
    "\n",
    "fitted_model = ExponentialSmoothing(train_df_sum['sum'],trend='mul',seasonal='mul').fit()\n",
    "test_predictions_sum = fitted_model.forecast(23)\n",
    "train_df_sum['sum'].plot(legend=True,label='TRAIN')\n",
    "test_df_sum['sum'].plot(legend=True,label='TEST',figsize=(6,4))\n",
    "test_predictions_sum.plot(legend=True,label='PREDICTION')\n",
    "plt.title('Train, Test and Predicted Test using Holt Winters')"
   ]
  },
  {
   "cell_type": "code",
   "execution_count": 13,
   "metadata": {},
   "outputs": [
    {
     "name": "stdout",
     "output_type": "stream",
     "text": [
      "Mean Absolute Error = 12868.328800105877\n",
      "Mean Squared Error = 413720043.2515873\n"
     ]
    },
    {
     "data": {
      "image/png": "[encoded data removed]",
      "text/plain": [
       "<Figure size 600x400 with 1 Axes>"
      ]
     },
     "metadata": {},
     "output_type": "display_data"
    }
   ],
   "source": [
    "test_df_sum['sum'].plot(legend=True,label='TEST',figsize=(6,4))\n",
    "test_predictions_sum.plot(legend=True,label='PREDICTION',xlim=['2020-11-01','2030-02-01'])\n",
    "\n",
    "from sklearn.metrics import mean_absolute_error,mean_squared_error\n",
    "print(f'Mean Absolute Error = {mean_absolute_error(test_df_sum,test_predictions_sum)}')\n",
    "print(f'Mean Squared Error = {mean_squared_error(test_df_sum,test_predictions_sum)}')"
   ]
  },
  {
   "cell_type": "code",
   "execution_count": 15,
   "metadata": {},
   "outputs": [
    {
     "name": "stderr",
     "output_type": "stream",
     "text": [
      "c:\\Users\\jsbreite\\.virtualenvs\\KFW_V1-n7B7ZO_c\\lib\\site-packages\\statsmodels\\tsa\\holtwinters\\model.py:915: ConvergenceWarning:\n",
      "\n",
      "Optimization failed to converge. Check mle_retvals.\n",
      "\n"
     ]
    },
    {
     "data": {
      "text/plain": [
       "Text(0.5, 1.0, 'Train, Test and Predicted Test using Holt Winters')"
      ]
     },
     "execution_count": 15,
     "metadata": {},
     "output_type": "execute_result"
    },
    {
     "data": {
      "image/png": "[encoded data removed]",
      "text/plain": [
       "<Figure size 600x400 with 1 Axes>"
      ]
     },
     "metadata": {},
     "output_type": "display_data"
    }
   ],
   "source": [
    "## Vorhersage von den nächsten 10 Jahre\n",
    "\n",
    "forecast_data = df_summe\n",
    "\n",
    "forecast_data.index.freq = 'MS'\n",
    "\n",
    "# Split into train and test set\n",
    "train_df_s = forecast_data[:130]\n",
    "test_df_s = forecast_data[130:]\n",
    "\n",
    "# What are we even waiting for, Let’s fit and forecast,\n",
    "\n",
    "fitted_model = ExponentialSmoothing(train_df_s['sum'],trend='mul',seasonal='mul').fit()\n",
    "test_predictions = fitted_model.forecast(120)\n",
    "train_df_s['sum'].plot(legend=True,label='TRAIN')\n",
    "test_df_s['sum'].plot(legend=True,label='TEST',figsize=(6,4))\n",
    "test_predictions.plot(legend=True,label='PREDICTION')\n",
    "plt.title('Train, Test and Predicted Test using Holt Winters')"
   ]
  }
 ],
 "metadata": {
  "kernelspec": {
   "display_name": "Python 3.10.6 ('KFW_V1-n7B7ZO_c')",
   "language": "python",
   "name": "python3"
  },
  "language_info": {
   "codemirror_mode": {
    "name": "ipython",
    "version": 3
   },
   "file_extension": ".py",
   "mimetype": "text/x-python",
   "name": "python",
   "nbconvert_exporter": "python",
   "pygments_lexer": "ipython3",
   "version": "3.10.6"
  },
  "orig_nbformat": 4,
  "vscode": {
   "interpreter": {
    "hash": "9a6d2462e65ed54794c76e3a764d49c7eaa874fbe4b0612b96e60aa5b8bc5bc1"
   }
  }
 },
 "nbformat": 4,
 "nbformat_minor": 2
}
